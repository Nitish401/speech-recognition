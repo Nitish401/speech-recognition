{
 "cells": [
  {
   "cell_type": "code",
   "execution_count": 1,
   "metadata": {},
   "outputs": [],
   "source": [
    "import speech_recognition as sr\n",
    "import pyttsx3"
   ]
  },
  {
   "cell_type": "code",
   "execution_count": 2,
   "metadata": {},
   "outputs": [
    {
     "name": "stdout",
     "output_type": "stream",
     "text": [
      "HKEY_LOCAL_MACHINE\\SOFTWARE\\Microsoft\\Speech\\Voices\\Tokens\\MS-Anna-1033-20-DSK\n",
      "WELCOME SIR, HOW MAY I HELP YOU\n",
      "SORRY SIR I CAN'T HEAR YOU\n"
     ]
    }
   ],
   "source": [
    "en = pyttsx3.init('sapi5')\n",
    "vo = en.getProperty('voices')\n",
    "rate = en.getProperty(\"rate\")\n",
    "en.setProperty(\"rate\",120)\n",
    "print(vo[0].id)\n",
    "en.setProperty('voices',vo[0].id)\n",
    "\n",
    "def speak(audio):\n",
    "    en.say(audio)\n",
    "    en.runAndWait()\n",
    "\n",
    "r = sr.Recognizer()\n",
    "with sr.Microphone() as so:\n",
    "    print(\"WELCOME SIR, HOW MAY I HELP YOU\")\n",
    "    a = r.listen(so)\n",
    "\n",
    "try:\n",
    "    txt = r.regognize_google(a)\n",
    "    if txt == \"make a file\":\n",
    "        with sr.Micophone() as so:\n",
    "            speak(\"NAME OF THE FILE SIR ?\")\n",
    "            a = r.listen(so)\n",
    "            t1 = r.recognize_google(a)\n",
    "            f = open(ff,\"w+\")\n",
    "            speak(\"FILE IS CREATED SIR\")\n",
    "    if txt == \"edit\":\n",
    "        with sr.Microphone() as so:\n",
    "            speak(\"NAME OF THE FILE SIR\")\n",
    "            a = r.listen(so)\n",
    "            t1 = r.recognize_google(a)\n",
    "        with sr.Microphone() as so:\n",
    "            speak(\"WHAT SHOULD I ENTER\")\n",
    "            a = r.listen(so)\n",
    "            t2 = r.recognize_google(a)\n",
    "        fv = t1+\".txt\"\n",
    "        ec = t2+'\\n'\n",
    "        f = open(fv,'a')\n",
    "        f.write(ec)\n",
    "        f.close()\n",
    "        speak(\"SUCESSFULLY EDITED SIR\")\n",
    "except:\n",
    "    speak(\"SORRY SIR I CAN'T HEAR YOU\")"
   ]
  },
  {
   "cell_type": "code",
   "execution_count": null,
   "metadata": {},
   "outputs": [],
   "source": []
  }
 ],
 "metadata": {
  "kernelspec": {
   "display_name": "Python 3",
   "language": "python",
   "name": "python3"
  },
  "language_info": {
   "codemirror_mode": {
    "name": "ipython",
    "version": 3
   },
   "file_extension": ".py",
   "mimetype": "text/x-python",
   "name": "python",
   "nbconvert_exporter": "python",
   "pygments_lexer": "ipython3",
   "version": "3.8.5"
  }
 },
 "nbformat": 4,
 "nbformat_minor": 4
}
